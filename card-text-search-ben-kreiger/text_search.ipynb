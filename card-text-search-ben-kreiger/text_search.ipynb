{
 "cells": [
  {
   "cell_type": "code",
   "execution_count": 1,
   "metadata": {},
   "outputs": [],
   "source": [
    "import pandas as pd"
   ]
  },
  {
   "cell_type": "code",
   "execution_count": 2,
   "metadata": {},
   "outputs": [
    {
     "data": {
      "text/html": [
       "<div>\n",
       "<style scoped>\n",
       "    .dataframe tbody tr th:only-of-type {\n",
       "        vertical-align: middle;\n",
       "    }\n",
       "\n",
       "    .dataframe tbody tr th {\n",
       "        vertical-align: top;\n",
       "    }\n",
       "\n",
       "    .dataframe thead th {\n",
       "        text-align: right;\n",
       "    }\n",
       "</style>\n",
       "<table border=\"1\" class=\"dataframe\">\n",
       "  <thead>\n",
       "    <tr style=\"text-align: right;\">\n",
       "      <th></th>\n",
       "      <th>name</th>\n",
       "      <th>text</th>\n",
       "    </tr>\n",
       "  </thead>\n",
       "  <tbody>\n",
       "    <tr>\n",
       "      <th>0</th>\n",
       "      <td>Ancestor's Chosen</td>\n",
       "      <td>First strike (This creature deals combat damag...</td>\n",
       "    </tr>\n",
       "    <tr>\n",
       "      <th>1</th>\n",
       "      <td>Angel of Mercy</td>\n",
       "      <td>Flying\\nWhen Angel of Mercy enters the battlef...</td>\n",
       "    </tr>\n",
       "    <tr>\n",
       "      <th>4</th>\n",
       "      <td>Angelic Wall</td>\n",
       "      <td>Defender (This creature can't attack.)\\nFlying</td>\n",
       "    </tr>\n",
       "    <tr>\n",
       "      <th>6</th>\n",
       "      <td>Aven Cloudchaser</td>\n",
       "      <td>Flying (This creature can't be blocked except ...</td>\n",
       "    </tr>\n",
       "    <tr>\n",
       "      <th>7</th>\n",
       "      <td>Ballista Squad</td>\n",
       "      <td>{X}{W}, {T}: Ballista Squad deals X damage to ...</td>\n",
       "    </tr>\n",
       "    <tr>\n",
       "      <th>...</th>\n",
       "      <td>...</td>\n",
       "      <td>...</td>\n",
       "    </tr>\n",
       "    <tr>\n",
       "      <th>25230</th>\n",
       "      <td>A-Umara Mystic</td>\n",
       "      <td>Flying, haste\\nWhenever you cast an instant, s...</td>\n",
       "    </tr>\n",
       "    <tr>\n",
       "      <th>25234</th>\n",
       "      <td>Relic Golem</td>\n",
       "      <td>Relic Golem can't attack or block unless an op...</td>\n",
       "    </tr>\n",
       "    <tr>\n",
       "      <th>25236</th>\n",
       "      <td>Sea Gate Colossus</td>\n",
       "      <td>This spell costs {1} less to cast for each cre...</td>\n",
       "    </tr>\n",
       "    <tr>\n",
       "      <th>25237</th>\n",
       "      <td>Skyclave Sentinel</td>\n",
       "      <td>Kicker {4} (You may pay an additional {4} as y...</td>\n",
       "    </tr>\n",
       "    <tr>\n",
       "      <th>25239</th>\n",
       "      <td>Stonework Packbeast</td>\n",
       "      <td>Stonework Packbeast is also a Cleric, Rogue, W...</td>\n",
       "    </tr>\n",
       "  </tbody>\n",
       "</table>\n",
       "<p>13311 rows × 2 columns</p>\n",
       "</div>"
      ],
      "text/plain": [
       "                      name                                               text\n",
       "0        Ancestor's Chosen  First strike (This creature deals combat damag...\n",
       "1           Angel of Mercy  Flying\\nWhen Angel of Mercy enters the battlef...\n",
       "4             Angelic Wall     Defender (This creature can't attack.)\\nFlying\n",
       "6         Aven Cloudchaser  Flying (This creature can't be blocked except ...\n",
       "7           Ballista Squad  {X}{W}, {T}: Ballista Squad deals X damage to ...\n",
       "...                    ...                                                ...\n",
       "25230       A-Umara Mystic  Flying, haste\\nWhenever you cast an instant, s...\n",
       "25234          Relic Golem  Relic Golem can't attack or block unless an op...\n",
       "25236    Sea Gate Colossus  This spell costs {1} less to cast for each cre...\n",
       "25237    Skyclave Sentinel  Kicker {4} (You may pay an additional {4} as y...\n",
       "25239  Stonework Packbeast  Stonework Packbeast is also a Cleric, Rogue, W...\n",
       "\n",
       "[13311 rows x 2 columns]"
      ]
     },
     "execution_count": 2,
     "metadata": {},
     "output_type": "execute_result"
    }
   ],
   "source": [
    "df = pd.read_csv('text_to_cost.csv')\n",
    "df = df.dropna()\n",
    "df = df.drop(columns=['type', 'cost', 'power', 'toughness'])\n",
    "df"
   ]
  },
  {
   "cell_type": "code",
   "execution_count": 5,
   "metadata": {},
   "outputs": [],
   "source": [
    "filtered = df[df['text'].str.contains('', case=False)]\n",
    "for index, row in filtered.iterrows():\n",
    "    print(row['text'])\n",
    "    print('\\n')"
   ]
  }
 ],
 "metadata": {
  "kernelspec": {
   "display_name": "Python 3.9.7 64-bit",
   "language": "python",
   "name": "python3"
  },
  "language_info": {
   "codemirror_mode": {
    "name": "ipython",
    "version": 3
   },
   "file_extension": ".py",
   "mimetype": "text/x-python",
   "name": "python",
   "nbconvert_exporter": "python",
   "pygments_lexer": "ipython3",
   "version": "3.9.7"
  },
  "orig_nbformat": 4,
  "vscode": {
   "interpreter": {
    "hash": "aee8b7b246df8f9039afb4144a1f6fd8d2ca17a180786b69acc140d282b71a49"
   }
  }
 },
 "nbformat": 4,
 "nbformat_minor": 2
}
